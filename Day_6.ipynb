{
  "nbformat": 4,
  "nbformat_minor": 0,
  "metadata": {
    "colab": {
      "provenance": [],
      "authorship_tag": "ABX9TyODrQga6bPcyuXvJODs9A7F",
      "include_colab_link": true
    },
    "kernelspec": {
      "name": "python3",
      "display_name": "Python 3"
    },
    "language_info": {
      "name": "python"
    }
  },
  "cells": [
    {
      "cell_type": "markdown",
      "metadata": {
        "id": "view-in-github",
        "colab_type": "text"
      },
      "source": [
        "<a href=\"https://colab.research.google.com/github/demigod1208/demigod1208/blob/main/Day_6.ipynb\" target=\"_parent\"><img src=\"https://colab.research.google.com/assets/colab-badge.svg\" alt=\"Open In Colab\"/></a>"
      ]
    },
    {
      "cell_type": "code",
      "source": [
        "#Array Creation\n",
        "\n",
        "# By Zeros And Ones\n",
        "\n",
        "import numpy as np\n",
        "\n",
        "zero = np.zeros((3,4))\n",
        "print(zero)\n",
        "print()\n",
        "one = np.ones((3,4))\n",
        "print(one)"
      ],
      "metadata": {
        "colab": {
          "base_uri": "https://localhost:8080/"
        },
        "id": "epBiZk87yd5B",
        "outputId": "6759ffcf-b135-4aa2-babb-6dd7ef38e581"
      },
      "execution_count": null,
      "outputs": [
        {
          "output_type": "stream",
          "name": "stdout",
          "text": [
            "[[0. 0. 0. 0.]\n",
            " [0. 0. 0. 0.]\n",
            " [0. 0. 0. 0.]]\n",
            "\n",
            "[[1. 1. 1. 1.]\n",
            " [1. 1. 1. 1.]\n",
            " [1. 1. 1. 1.]]\n"
          ]
        }
      ]
    },
    {
      "cell_type": "code",
      "source": [
        "#By existing data\n",
        "\n",
        "#Array()function\n",
        "\n",
        "import  numpy as np\n",
        "\n",
        "a = np.array([1,2,3,4,5])\n",
        "print(a)\n",
        "print(type(a))\n",
        "print()\n",
        "\n",
        "b = [\"boopathy\",\"jai\",\"praveen\",\"arun\"]\n",
        "c = np.array(b)\n",
        "print(c)\n",
        "print(type(c))\n",
        "print()\n",
        "\n",
        "v = [\"jai\",\"nj\",2,3,3]\n",
        "m =np.array(v)\n",
        "print(m)\n",
        "print(type(m))\n",
        "print(m.dtype)\n",
        "print()\n",
        "\n",
        "#copy Function\n",
        "\n",
        "d = np.copy(a)\n",
        "e = np.copy(c)\n",
        "\n",
        "a[3] = 23\n",
        "c[1] = \"Palani\"\n",
        "print(a,c,d,e)"
      ],
      "metadata": {
        "id": "ZmGaEvM6zk_P",
        "colab": {
          "base_uri": "https://localhost:8080/"
        },
        "outputId": "f7e21424-b4bc-466d-9dc4-bfc90c0c2d80"
      },
      "execution_count": 8,
      "outputs": [
        {
          "output_type": "stream",
          "name": "stdout",
          "text": [
            "[1 2 3 4 5]\n",
            "<class 'numpy.ndarray'>\n",
            "\n",
            "['boopathy' 'jai' 'praveen' 'arun']\n",
            "<class 'numpy.ndarray'>\n",
            "\n",
            "['jai' 'nj' '2' '3' '3']\n",
            "<class 'numpy.ndarray'>\n",
            "<U21\n",
            "\n",
            "[ 1  2  3 23  5] ['boopathy' 'Palani' 'praveen' 'arun'] [1 2 3 4 5] ['boopathy' 'jai' 'praveen' 'arun']\n"
          ]
        }
      ]
    },
    {
      "cell_type": "code",
      "source": [
        "NARR = [[23,33,44,45,66,77],[23,43,455,54,65,57],[31,233,23,232,444,65],[24,35,46,54,68,47]]\n",
        "g = np.array(NARR,ndmin = 4)   # we can mention the dimensions\n",
        "print(g)\n",
        "print(g.ndim)"
      ],
      "metadata": {
        "colab": {
          "base_uri": "https://localhost:8080/"
        },
        "id": "tyzxSk58D1XR",
        "outputId": "f7c80f4e-d07e-45d9-ae1e-e0b5e658e73d"
      },
      "execution_count": 11,
      "outputs": [
        {
          "output_type": "stream",
          "name": "stdout",
          "text": [
            "[[[[ 23  33  44  45  66  77]\n",
            "   [ 23  43 455  54  65  57]\n",
            "   [ 31 233  23 232 444  65]\n",
            "   [ 24  35  46  54  68  47]]]]\n",
            "4\n"
          ]
        }
      ]
    },
    {
      "cell_type": "code",
      "source": [
        "#By Numerical Numbers\n",
        "\n",
        "import numpy as np\n",
        "\n",
        "#arange()\n",
        "\n",
        "a = np.arange(20) # arange() create a array of range given\n",
        "print(a)\n",
        "print()\n",
        "\n",
        "b = np.arange(450,464) # start and end is given in tuple\n",
        "print(b)\n",
        "print()\n",
        "\n",
        "c = np.arange(1,20,2) #creating a array by giving step value\n",
        "print(c)\n",
        "print()\n",
        "\n",
        "#Linspace()\n",
        "\n",
        "d = np.linspace(1,10,15) #create a array that are equally spaced between the values that given start to  end\n",
        "print(d)\n",
        "print()"
      ],
      "metadata": {
        "id": "RmFEH82jANDY",
        "colab": {
          "base_uri": "https://localhost:8080/"
        },
        "outputId": "0ad65f14-ddc5-41ae-d5e6-1fd6944db8c1"
      },
      "execution_count": 16,
      "outputs": [
        {
          "output_type": "stream",
          "name": "stdout",
          "text": [
            "[ 0  1  2  3  4  5  6  7  8  9 10 11 12 13 14 15 16 17 18 19]\n",
            "\n",
            "[450 451 452 453 454 455 456 457 458 459 460 461 462 463]\n",
            "\n",
            "[ 1  3  5  7  9 11 13 15 17 19]\n",
            "\n",
            "[ 1.          1.64285714  2.28571429  2.92857143  3.57142857  4.21428571\n",
            "  4.85714286  5.5         6.14285714  6.78571429  7.42857143  8.07142857\n",
            "  8.71428571  9.35714286 10.        ]\n",
            "\n"
          ]
        }
      ]
    },
    {
      "cell_type": "markdown",
      "source": [
        "The Other Methods to create array\n",
        "\n",
        "logspace()\n",
        "empty()\n",
        "identify()\n",
        "full()\n",
        "asarray()\n",
        "core.defchararray.array()\n",
        "gemspace()\n"
      ],
      "metadata": {
        "id": "WKtc-jKviJFj"
      }
    },
    {
      "cell_type": "code",
      "source": [
        "# Arithmetic operations in numpy\n",
        "\n",
        "import numpy as np\n",
        "\n",
        "a = np.arange(1,20,3)\n",
        "print(a)\n",
        "print()\n",
        "print(a+10)\n",
        "print()\n",
        "print(a-2)\n",
        "print()\n",
        "print(a*5)\n"
      ],
      "metadata": {
        "colab": {
          "base_uri": "https://localhost:8080/"
        },
        "id": "y4F-4UPBAkpm",
        "outputId": "efb7c48d-040b-41c6-c7d7-0c896a822f86"
      },
      "execution_count": null,
      "outputs": [
        {
          "output_type": "stream",
          "name": "stdout",
          "text": [
            "[ 1  4  7 10 13 16 19]\n",
            "\n",
            "[11 14 17 20 23 26 29]\n",
            "\n",
            "[-1  2  5  8 11 14 17]\n",
            "\n",
            "[ 5 20 35 50 65 80 95]\n"
          ]
        }
      ]
    },
    {
      "cell_type": "code",
      "source": [
        "#  arithmetic operation in single dimension array\n",
        "\n",
        "a = np.arange(10,20)\n",
        "b = np.arange(30,40)\n",
        "\n",
        "print(a+b)\n",
        "print()\n",
        "print(a-b)\n",
        "print()\n",
        "print(a*b)\n",
        "print()\n",
        "print(np.dot(a,b))"
      ],
      "metadata": {
        "colab": {
          "base_uri": "https://localhost:8080/"
        },
        "id": "bGQC3Lz9B_7H",
        "outputId": "f45e1a04-2e69-45bc-c281-1e1fccdac3bc"
      },
      "execution_count": null,
      "outputs": [
        {
          "output_type": "stream",
          "name": "stdout",
          "text": [
            "[40 42 44 46 48 50 52 54 56 58]\n",
            "\n",
            "[-20 -20 -20 -20 -20 -20 -20 -20 -20 -20]\n",
            "\n",
            "[300 341 384 429 476 525 576 629 684 741]\n",
            "\n",
            "5085\n"
          ]
        }
      ]
    },
    {
      "cell_type": "code",
      "source": [
        "#Dot Matrices\n",
        "a = np.arange(9).reshape(3,3)\n",
        "b = np.arange(10,19).reshape(3,3)\n",
        "print(a)\n",
        "print(b)\n",
        "c = np.dot(a,b)\n",
        "print(c)"
      ],
      "metadata": {
        "colab": {
          "base_uri": "https://localhost:8080/"
        },
        "id": "4_OkGGH9CAH6",
        "outputId": "b6ca0e59-61b9-400d-8bd8-cdc22be52c37"
      },
      "execution_count": null,
      "outputs": [
        {
          "output_type": "stream",
          "name": "stdout",
          "text": [
            "[[0 1 2]\n",
            " [3 4 5]\n",
            " [6 7 8]]\n",
            "[[10 11 12]\n",
            " [13 14 15]\n",
            " [16 17 18]]\n",
            "[[ 45  48  51]\n",
            " [162 174 186]\n",
            " [279 300 321]]\n"
          ]
        }
      ]
    },
    {
      "cell_type": "code",
      "source": [
        "# Arithmatic operation in multidimensional array\n",
        "a = np.arange(9).reshape(3,3)\n",
        "b = np.arange(10,19).reshape(3,3)\n",
        "print(a+b)\n",
        "print(b*a)"
      ],
      "metadata": {
        "colab": {
          "base_uri": "https://localhost:8080/"
        },
        "id": "1pvwWE7hA1g_",
        "outputId": "74574ece-dc78-41b8-e864-1983955f8931"
      },
      "execution_count": null,
      "outputs": [
        {
          "output_type": "stream",
          "name": "stdout",
          "text": [
            "[[10 12 14]\n",
            " [16 18 20]\n",
            " [22 24 26]]\n",
            "[[  0  11  24]\n",
            " [ 39  56  75]\n",
            " [ 96 119 144]]\n"
          ]
        }
      ]
    },
    {
      "cell_type": "code",
      "source": [
        "#Perform Hill Cipher Usin Matrix Product\n",
        "\n",
        "'''1 2 3 4 5 6 7 8 9 10 11 12 13 14 15 16 17 18 19 20 21 22 23 24 25 26\n",
        "   a b c d e f g h i  j  k  l  m  n  o  p  q  r  s  t  u  v  w  x  y  z\n",
        "   [e d]=[5 4]\n",
        "   [u r]=[21 18]\n",
        "   [e k]=[5 11]\n",
        "   cipher = [[11,9],[8,17]]\n",
        "   '''\n",
        "\n",
        "# first block\n",
        "\n",
        "a  = np.array([5,4])\n",
        "cipher_key = np.array([11,9,8,17]).reshape(2,2)\n",
        "\n",
        "e_d = np.dot(a,cipher_key)\n",
        "print(e_d)\n",
        "print()\n",
        "e_d = np.mod(e_d,26)\n",
        "print(e_d)\n",
        "print()\n",
        "\n",
        "# Second block\n",
        "\n",
        "b  = np.array([21,18])\n",
        "u_r = np.dot(a,cipher_key)\n",
        "print(u_r)\n",
        "print()\n",
        "u_r = np.mod(u_r,26)\n",
        "print(u_r)\n",
        "print()\n",
        "\n",
        "# Third block\n",
        "\n",
        "a  = np.array([5,11])\n",
        "e_k = np.dot(a,cipher_key)\n",
        "print(e_k)\n",
        "print()\n",
        "e_k = np.mod(e_k,26)\n",
        "print(e_k)\n",
        "print()\n",
        "print(e_k.ndim)\n",
        "\n"
      ],
      "metadata": {
        "colab": {
          "base_uri": "https://localhost:8080/"
        },
        "id": "vajh4uzJGAus",
        "outputId": "0964789c-3ec3-4277-a1a0-e179bea6c54f"
      },
      "execution_count": null,
      "outputs": [
        {
          "output_type": "stream",
          "name": "stdout",
          "text": [
            "[ 87 113]\n",
            "\n",
            "[9 9]\n",
            "\n",
            "[ 87 113]\n",
            "\n",
            "[9 9]\n",
            "\n",
            "[143 232]\n",
            "\n",
            "[13 24]\n",
            "\n",
            "1\n"
          ]
        }
      ]
    }
  ]
}